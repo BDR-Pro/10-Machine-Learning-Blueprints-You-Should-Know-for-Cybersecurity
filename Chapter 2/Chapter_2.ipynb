{
  "cells": [
    {
      "cell_type": "markdown",
      "source": [
        "### Data Download and Setup"
      ],
      "metadata": {
        "id": "iY-6A-klEoOO"
      }
    },
    {
      "cell_type": "code",
      "execution_count": null,
      "metadata": {
        "id": "jW7_g9zVnG5O"
      },
      "outputs": [],
      "source": [
        "import pandas as pd\n",
        "import numpy as np\n",
        "import os\n",
        "from requests import get\n"
      ]
    },
    {
      "cell_type": "code",
      "execution_count": null,
      "metadata": {
        "id": "qVho6u9VnJiy"
      },
      "outputs": [],
      "source": [
        "train_data_page = \"http://kdd.ics.uci.edu/databases/kddcup99/kddcup.data_10_percent.gz\"\n",
        "test_data_page = \"http://kdd.ics.uci.edu/databases/kddcup99/kddcup.testdata.unlabeled_10_percent.gz\"\n",
        "labels =\"http://kdd.ics.uci.edu/databases/kddcup99/kddcup.names\"\n",
        "datadir = \"data\""
      ]
    },
    {
      "cell_type": "code",
      "execution_count": null,
      "metadata": {
        "colab": {
          "base_uri": "https://localhost:8080/"
        },
        "id": "HGsalg3pnUtb",
        "outputId": "b3a710de-04a5-4000-bc6a-cfb14f9346b3"
      },
      "outputs": [
        {
          "output_type": "stream",
          "name": "stdout",
          "text": [
            "Downloading Training Data\n",
            "Downloading Training Labels\n"
          ]
        }
      ],
      "source": [
        "\n",
        "\n",
        "# Download training data\n",
        "print(\"Downloading Training Data\")\n",
        "os.system(\"wget \" + train_data_page)\n",
        "training_file_name = train_data_page.split(\"/\")[-1].replace(\".gz\",\"\")\n",
        "os.system(\"gunzip \" + training_file_name )\n",
        "with open(training_file_name, \"r+\") as ff:\n",
        "  lines = [i.strip().split(\",\") for i in ff.readlines()]\n",
        "ff.close()\n",
        "\n",
        "# Download training column labels \n",
        "print(\"Downloading Training Labels\")\n",
        "response = get(labels)\n",
        "labels = response.text\n",
        "labels = [i.split(\",\")[0].split(\":\") for i in labels.split(\"\\n\")]\n",
        "labels = [i for i in labels if i[0]!='']\n",
        "final_labels = labels[1::]\n",
        "\n"
      ]
    },
    {
      "cell_type": "code",
      "execution_count": null,
      "metadata": {
        "colab": {
          "base_uri": "https://localhost:8080/",
          "height": 299
        },
        "id": "W0WWr8dPneuV",
        "outputId": "a56c11da-e00a-40ff-b68e-6711ba683c50"
      },
      "outputs": [
        {
          "output_type": "execute_result",
          "data": {
            "text/plain": [
              "   duration protocol_type service flag  src_bytes  dst_bytes land  \\\n",
              "0       0.0           tcp    http   SF      181.0     5450.0    0   \n",
              "1       0.0           tcp    http   SF      239.0      486.0    0   \n",
              "2       0.0           tcp    http   SF      235.0     1337.0    0   \n",
              "3       0.0           tcp    http   SF      219.0     1337.0    0   \n",
              "4       0.0           tcp    http   SF      217.0     2032.0    0   \n",
              "\n",
              "   wrong_fragment  urgent  hot  ...  dst_host_srv_count  \\\n",
              "0             0.0     0.0  0.0  ...                 9.0   \n",
              "1             0.0     0.0  0.0  ...                19.0   \n",
              "2             0.0     0.0  0.0  ...                29.0   \n",
              "3             0.0     0.0  0.0  ...                39.0   \n",
              "4             0.0     0.0  0.0  ...                49.0   \n",
              "\n",
              "  dst_host_same_srv_rate  dst_host_diff_srv_rate  dst_host_same_src_port_rate  \\\n",
              "0                    1.0                     0.0                         0.11   \n",
              "1                    1.0                     0.0                         0.05   \n",
              "2                    1.0                     0.0                         0.03   \n",
              "3                    1.0                     0.0                         0.03   \n",
              "4                    1.0                     0.0                         0.02   \n",
              "\n",
              "   dst_host_srv_diff_host_rate  dst_host_serror_rate  \\\n",
              "0                          0.0                   0.0   \n",
              "1                          0.0                   0.0   \n",
              "2                          0.0                   0.0   \n",
              "3                          0.0                   0.0   \n",
              "4                          0.0                   0.0   \n",
              "\n",
              "   dst_host_srv_serror_rate  dst_host_rerror_rate  dst_host_srv_rerror_rate  \\\n",
              "0                       0.0                   0.0                       0.0   \n",
              "1                       0.0                   0.0                       0.0   \n",
              "2                       0.0                   0.0                       0.0   \n",
              "3                       0.0                   0.0                       0.0   \n",
              "4                       0.0                   0.0                       0.0   \n",
              "\n",
              "    target  \n",
              "0  normal.  \n",
              "1  normal.  \n",
              "2  normal.  \n",
              "3  normal.  \n",
              "4  normal.  \n",
              "\n",
              "[5 rows x 42 columns]"
            ],
            "text/html": [
              "\n",
              "  <div id=\"df-8c371962-ead1-4770-8849-4438120e3f93\">\n",
              "    <div class=\"colab-df-container\">\n",
              "      <div>\n",
              "<style scoped>\n",
              "    .dataframe tbody tr th:only-of-type {\n",
              "        vertical-align: middle;\n",
              "    }\n",
              "\n",
              "    .dataframe tbody tr th {\n",
              "        vertical-align: top;\n",
              "    }\n",
              "\n",
              "    .dataframe thead th {\n",
              "        text-align: right;\n",
              "    }\n",
              "</style>\n",
              "<table border=\"1\" class=\"dataframe\">\n",
              "  <thead>\n",
              "    <tr style=\"text-align: right;\">\n",
              "      <th></th>\n",
              "      <th>duration</th>\n",
              "      <th>protocol_type</th>\n",
              "      <th>service</th>\n",
              "      <th>flag</th>\n",
              "      <th>src_bytes</th>\n",
              "      <th>dst_bytes</th>\n",
              "      <th>land</th>\n",
              "      <th>wrong_fragment</th>\n",
              "      <th>urgent</th>\n",
              "      <th>hot</th>\n",
              "      <th>...</th>\n",
              "      <th>dst_host_srv_count</th>\n",
              "      <th>dst_host_same_srv_rate</th>\n",
              "      <th>dst_host_diff_srv_rate</th>\n",
              "      <th>dst_host_same_src_port_rate</th>\n",
              "      <th>dst_host_srv_diff_host_rate</th>\n",
              "      <th>dst_host_serror_rate</th>\n",
              "      <th>dst_host_srv_serror_rate</th>\n",
              "      <th>dst_host_rerror_rate</th>\n",
              "      <th>dst_host_srv_rerror_rate</th>\n",
              "      <th>target</th>\n",
              "    </tr>\n",
              "  </thead>\n",
              "  <tbody>\n",
              "    <tr>\n",
              "      <th>0</th>\n",
              "      <td>0.0</td>\n",
              "      <td>tcp</td>\n",
              "      <td>http</td>\n",
              "      <td>SF</td>\n",
              "      <td>181.0</td>\n",
              "      <td>5450.0</td>\n",
              "      <td>0</td>\n",
              "      <td>0.0</td>\n",
              "      <td>0.0</td>\n",
              "      <td>0.0</td>\n",
              "      <td>...</td>\n",
              "      <td>9.0</td>\n",
              "      <td>1.0</td>\n",
              "      <td>0.0</td>\n",
              "      <td>0.11</td>\n",
              "      <td>0.0</td>\n",
              "      <td>0.0</td>\n",
              "      <td>0.0</td>\n",
              "      <td>0.0</td>\n",
              "      <td>0.0</td>\n",
              "      <td>normal.</td>\n",
              "    </tr>\n",
              "    <tr>\n",
              "      <th>1</th>\n",
              "      <td>0.0</td>\n",
              "      <td>tcp</td>\n",
              "      <td>http</td>\n",
              "      <td>SF</td>\n",
              "      <td>239.0</td>\n",
              "      <td>486.0</td>\n",
              "      <td>0</td>\n",
              "      <td>0.0</td>\n",
              "      <td>0.0</td>\n",
              "      <td>0.0</td>\n",
              "      <td>...</td>\n",
              "      <td>19.0</td>\n",
              "      <td>1.0</td>\n",
              "      <td>0.0</td>\n",
              "      <td>0.05</td>\n",
              "      <td>0.0</td>\n",
              "      <td>0.0</td>\n",
              "      <td>0.0</td>\n",
              "      <td>0.0</td>\n",
              "      <td>0.0</td>\n",
              "      <td>normal.</td>\n",
              "    </tr>\n",
              "    <tr>\n",
              "      <th>2</th>\n",
              "      <td>0.0</td>\n",
              "      <td>tcp</td>\n",
              "      <td>http</td>\n",
              "      <td>SF</td>\n",
              "      <td>235.0</td>\n",
              "      <td>1337.0</td>\n",
              "      <td>0</td>\n",
              "      <td>0.0</td>\n",
              "      <td>0.0</td>\n",
              "      <td>0.0</td>\n",
              "      <td>...</td>\n",
              "      <td>29.0</td>\n",
              "      <td>1.0</td>\n",
              "      <td>0.0</td>\n",
              "      <td>0.03</td>\n",
              "      <td>0.0</td>\n",
              "      <td>0.0</td>\n",
              "      <td>0.0</td>\n",
              "      <td>0.0</td>\n",
              "      <td>0.0</td>\n",
              "      <td>normal.</td>\n",
              "    </tr>\n",
              "    <tr>\n",
              "      <th>3</th>\n",
              "      <td>0.0</td>\n",
              "      <td>tcp</td>\n",
              "      <td>http</td>\n",
              "      <td>SF</td>\n",
              "      <td>219.0</td>\n",
              "      <td>1337.0</td>\n",
              "      <td>0</td>\n",
              "      <td>0.0</td>\n",
              "      <td>0.0</td>\n",
              "      <td>0.0</td>\n",
              "      <td>...</td>\n",
              "      <td>39.0</td>\n",
              "      <td>1.0</td>\n",
              "      <td>0.0</td>\n",
              "      <td>0.03</td>\n",
              "      <td>0.0</td>\n",
              "      <td>0.0</td>\n",
              "      <td>0.0</td>\n",
              "      <td>0.0</td>\n",
              "      <td>0.0</td>\n",
              "      <td>normal.</td>\n",
              "    </tr>\n",
              "    <tr>\n",
              "      <th>4</th>\n",
              "      <td>0.0</td>\n",
              "      <td>tcp</td>\n",
              "      <td>http</td>\n",
              "      <td>SF</td>\n",
              "      <td>217.0</td>\n",
              "      <td>2032.0</td>\n",
              "      <td>0</td>\n",
              "      <td>0.0</td>\n",
              "      <td>0.0</td>\n",
              "      <td>0.0</td>\n",
              "      <td>...</td>\n",
              "      <td>49.0</td>\n",
              "      <td>1.0</td>\n",
              "      <td>0.0</td>\n",
              "      <td>0.02</td>\n",
              "      <td>0.0</td>\n",
              "      <td>0.0</td>\n",
              "      <td>0.0</td>\n",
              "      <td>0.0</td>\n",
              "      <td>0.0</td>\n",
              "      <td>normal.</td>\n",
              "    </tr>\n",
              "  </tbody>\n",
              "</table>\n",
              "<p>5 rows × 42 columns</p>\n",
              "</div>\n",
              "      <button class=\"colab-df-convert\" onclick=\"convertToInteractive('df-8c371962-ead1-4770-8849-4438120e3f93')\"\n",
              "              title=\"Convert this dataframe to an interactive table.\"\n",
              "              style=\"display:none;\">\n",
              "        \n",
              "  <svg xmlns=\"http://www.w3.org/2000/svg\" height=\"24px\"viewBox=\"0 0 24 24\"\n",
              "       width=\"24px\">\n",
              "    <path d=\"M0 0h24v24H0V0z\" fill=\"none\"/>\n",
              "    <path d=\"M18.56 5.44l.94 2.06.94-2.06 2.06-.94-2.06-.94-.94-2.06-.94 2.06-2.06.94zm-11 1L8.5 8.5l.94-2.06 2.06-.94-2.06-.94L8.5 2.5l-.94 2.06-2.06.94zm10 10l.94 2.06.94-2.06 2.06-.94-2.06-.94-.94-2.06-.94 2.06-2.06.94z\"/><path d=\"M17.41 7.96l-1.37-1.37c-.4-.4-.92-.59-1.43-.59-.52 0-1.04.2-1.43.59L10.3 9.45l-7.72 7.72c-.78.78-.78 2.05 0 2.83L4 21.41c.39.39.9.59 1.41.59.51 0 1.02-.2 1.41-.59l7.78-7.78 2.81-2.81c.8-.78.8-2.07 0-2.86zM5.41 20L4 18.59l7.72-7.72 1.47 1.35L5.41 20z\"/>\n",
              "  </svg>\n",
              "      </button>\n",
              "      \n",
              "  <style>\n",
              "    .colab-df-container {\n",
              "      display:flex;\n",
              "      flex-wrap:wrap;\n",
              "      gap: 12px;\n",
              "    }\n",
              "\n",
              "    .colab-df-convert {\n",
              "      background-color: #E8F0FE;\n",
              "      border: none;\n",
              "      border-radius: 50%;\n",
              "      cursor: pointer;\n",
              "      display: none;\n",
              "      fill: #1967D2;\n",
              "      height: 32px;\n",
              "      padding: 0 0 0 0;\n",
              "      width: 32px;\n",
              "    }\n",
              "\n",
              "    .colab-df-convert:hover {\n",
              "      background-color: #E2EBFA;\n",
              "      box-shadow: 0px 1px 2px rgba(60, 64, 67, 0.3), 0px 1px 3px 1px rgba(60, 64, 67, 0.15);\n",
              "      fill: #174EA6;\n",
              "    }\n",
              "\n",
              "    [theme=dark] .colab-df-convert {\n",
              "      background-color: #3B4455;\n",
              "      fill: #D2E3FC;\n",
              "    }\n",
              "\n",
              "    [theme=dark] .colab-df-convert:hover {\n",
              "      background-color: #434B5C;\n",
              "      box-shadow: 0px 1px 3px 1px rgba(0, 0, 0, 0.15);\n",
              "      filter: drop-shadow(0px 1px 2px rgba(0, 0, 0, 0.3));\n",
              "      fill: #FFFFFF;\n",
              "    }\n",
              "  </style>\n",
              "\n",
              "      <script>\n",
              "        const buttonEl =\n",
              "          document.querySelector('#df-8c371962-ead1-4770-8849-4438120e3f93 button.colab-df-convert');\n",
              "        buttonEl.style.display =\n",
              "          google.colab.kernel.accessAllowed ? 'block' : 'none';\n",
              "\n",
              "        async function convertToInteractive(key) {\n",
              "          const element = document.querySelector('#df-8c371962-ead1-4770-8849-4438120e3f93');\n",
              "          const dataTable =\n",
              "            await google.colab.kernel.invokeFunction('convertToInteractive',\n",
              "                                                     [key], {});\n",
              "          if (!dataTable) return;\n",
              "\n",
              "          const docLinkHtml = 'Like what you see? Visit the ' +\n",
              "            '<a target=\"_blank\" href=https://colab.research.google.com/notebooks/data_table.ipynb>data table notebook</a>'\n",
              "            + ' to learn more about interactive tables.';\n",
              "          element.innerHTML = '';\n",
              "          dataTable['output_type'] = 'display_data';\n",
              "          await google.colab.output.renderOutput(dataTable, element);\n",
              "          const docLink = document.createElement('div');\n",
              "          docLink.innerHTML = docLinkHtml;\n",
              "          element.appendChild(docLink);\n",
              "        }\n",
              "      </script>\n",
              "    </div>\n",
              "  </div>\n",
              "  "
            ]
          },
          "metadata": {},
          "execution_count": 4
        }
      ],
      "source": [
        "# Constructing Dataframe\n",
        "data = pd.DataFrame(lines)\n",
        "labels = final_labels\n",
        "data.columns = [i[0] for i in labels]+['target']\n",
        "\n",
        "for i in range(len(labels)):\n",
        "  if labels[i][1] == ' continuous.':\n",
        "    data.iloc[:,i] = data.iloc[:,i].astype(float)\n",
        "\n",
        "data.head()"
      ]
    },
    {
      "cell_type": "code",
      "execution_count": null,
      "metadata": {
        "colab": {
          "base_uri": "https://localhost:8080/"
        },
        "id": "ccC-nQQs8mkr",
        "outputId": "a7ad1f7a-a070-427d-afe4-8019d832d1f4"
      },
      "outputs": [
        {
          "data": {
            "text/plain": [
              "smurf.              280790\n",
              "neptune.            107201\n",
              "normal.              97278\n",
              "back.                 2203\n",
              "satan.                1589\n",
              "ipsweep.              1247\n",
              "portsweep.            1040\n",
              "warezclient.          1020\n",
              "teardrop.              979\n",
              "pod.                   264\n",
              "nmap.                  231\n",
              "guess_passwd.           53\n",
              "buffer_overflow.        30\n",
              "land.                   21\n",
              "warezmaster.            20\n",
              "imap.                   12\n",
              "rootkit.                10\n",
              "loadmodule.              9\n",
              "ftp_write.               8\n",
              "multihop.                7\n",
              "phf.                     4\n",
              "perl.                    3\n",
              "spy.                     2\n",
              "Name: target, dtype: int64"
            ]
          },
          "execution_count": 6,
          "metadata": {},
          "output_type": "execute_result"
        }
      ],
      "source": [
        "data['target'].value_counts()"
      ]
    },
    {
      "cell_type": "markdown",
      "source": [
        "### Z-Score"
      ],
      "metadata": {
        "id": "2DqTScEzFD-T"
      }
    },
    {
      "cell_type": "code",
      "execution_count": null,
      "metadata": {
        "colab": {
          "base_uri": "https://localhost:8080/",
          "height": 348
        },
        "id": "RL1VPRvk9oGd",
        "outputId": "7e32eeca-653f-4315-d544-30c3508622b6"
      },
      "outputs": [
        {
          "output_type": "stream",
          "name": "stderr",
          "text": [
            "<ipython-input-5-cf00b24b900f>:12: SettingWithCopyWarning: \n",
            "A value is trying to be set on a copy of a slice from a DataFrame.\n",
            "Try using .loc[row_indexer,col_indexer] = value instead\n",
            "\n",
            "See the caveats in the documentation: https://pandas.pydata.org/pandas-docs/stable/user_guide/indexing.html#returning-a-view-versus-a-copy\n",
            "  data4[\"Label\"] = data4[\"target\"].apply(map_label)\n"
          ]
        },
        {
          "output_type": "execute_result",
          "data": {
            "text/plain": [
              "       duration  protocol_type  service   flag  src_bytes  dst_bytes   land  \\\n",
              "Label                                                                         \n",
              "0         97278          97278    97278  97278      97278      97278  97278   \n",
              "1           979            979      979    979        979        979    979   \n",
              "\n",
              "       wrong_fragment  urgent    hot  ...  dst_host_srv_count  \\\n",
              "Label                                 ...                       \n",
              "0               97278   97278  97278  ...               97278   \n",
              "1                 979     979    979  ...                 979   \n",
              "\n",
              "       dst_host_same_srv_rate  dst_host_diff_srv_rate  \\\n",
              "Label                                                   \n",
              "0                       97278                   97278   \n",
              "1                         979                     979   \n",
              "\n",
              "       dst_host_same_src_port_rate  dst_host_srv_diff_host_rate  \\\n",
              "Label                                                             \n",
              "0                            97278                        97278   \n",
              "1                              979                          979   \n",
              "\n",
              "       dst_host_serror_rate  dst_host_srv_serror_rate  dst_host_rerror_rate  \\\n",
              "Label                                                                         \n",
              "0                     97278                     97278                 97278   \n",
              "1                       979                       979                   979   \n",
              "\n",
              "       dst_host_srv_rerror_rate  target  \n",
              "Label                                    \n",
              "0                         97278   97278  \n",
              "1                           979     979  \n",
              "\n",
              "[2 rows x 42 columns]"
            ],
            "text/html": [
              "\n",
              "  <div id=\"df-84c354e5-1a5d-4d62-9502-229dfd5786ac\">\n",
              "    <div class=\"colab-df-container\">\n",
              "      <div>\n",
              "<style scoped>\n",
              "    .dataframe tbody tr th:only-of-type {\n",
              "        vertical-align: middle;\n",
              "    }\n",
              "\n",
              "    .dataframe tbody tr th {\n",
              "        vertical-align: top;\n",
              "    }\n",
              "\n",
              "    .dataframe thead th {\n",
              "        text-align: right;\n",
              "    }\n",
              "</style>\n",
              "<table border=\"1\" class=\"dataframe\">\n",
              "  <thead>\n",
              "    <tr style=\"text-align: right;\">\n",
              "      <th></th>\n",
              "      <th>duration</th>\n",
              "      <th>protocol_type</th>\n",
              "      <th>service</th>\n",
              "      <th>flag</th>\n",
              "      <th>src_bytes</th>\n",
              "      <th>dst_bytes</th>\n",
              "      <th>land</th>\n",
              "      <th>wrong_fragment</th>\n",
              "      <th>urgent</th>\n",
              "      <th>hot</th>\n",
              "      <th>...</th>\n",
              "      <th>dst_host_srv_count</th>\n",
              "      <th>dst_host_same_srv_rate</th>\n",
              "      <th>dst_host_diff_srv_rate</th>\n",
              "      <th>dst_host_same_src_port_rate</th>\n",
              "      <th>dst_host_srv_diff_host_rate</th>\n",
              "      <th>dst_host_serror_rate</th>\n",
              "      <th>dst_host_srv_serror_rate</th>\n",
              "      <th>dst_host_rerror_rate</th>\n",
              "      <th>dst_host_srv_rerror_rate</th>\n",
              "      <th>target</th>\n",
              "    </tr>\n",
              "    <tr>\n",
              "      <th>Label</th>\n",
              "      <th></th>\n",
              "      <th></th>\n",
              "      <th></th>\n",
              "      <th></th>\n",
              "      <th></th>\n",
              "      <th></th>\n",
              "      <th></th>\n",
              "      <th></th>\n",
              "      <th></th>\n",
              "      <th></th>\n",
              "      <th></th>\n",
              "      <th></th>\n",
              "      <th></th>\n",
              "      <th></th>\n",
              "      <th></th>\n",
              "      <th></th>\n",
              "      <th></th>\n",
              "      <th></th>\n",
              "      <th></th>\n",
              "      <th></th>\n",
              "      <th></th>\n",
              "    </tr>\n",
              "  </thead>\n",
              "  <tbody>\n",
              "    <tr>\n",
              "      <th>0</th>\n",
              "      <td>97278</td>\n",
              "      <td>97278</td>\n",
              "      <td>97278</td>\n",
              "      <td>97278</td>\n",
              "      <td>97278</td>\n",
              "      <td>97278</td>\n",
              "      <td>97278</td>\n",
              "      <td>97278</td>\n",
              "      <td>97278</td>\n",
              "      <td>97278</td>\n",
              "      <td>...</td>\n",
              "      <td>97278</td>\n",
              "      <td>97278</td>\n",
              "      <td>97278</td>\n",
              "      <td>97278</td>\n",
              "      <td>97278</td>\n",
              "      <td>97278</td>\n",
              "      <td>97278</td>\n",
              "      <td>97278</td>\n",
              "      <td>97278</td>\n",
              "      <td>97278</td>\n",
              "    </tr>\n",
              "    <tr>\n",
              "      <th>1</th>\n",
              "      <td>979</td>\n",
              "      <td>979</td>\n",
              "      <td>979</td>\n",
              "      <td>979</td>\n",
              "      <td>979</td>\n",
              "      <td>979</td>\n",
              "      <td>979</td>\n",
              "      <td>979</td>\n",
              "      <td>979</td>\n",
              "      <td>979</td>\n",
              "      <td>...</td>\n",
              "      <td>979</td>\n",
              "      <td>979</td>\n",
              "      <td>979</td>\n",
              "      <td>979</td>\n",
              "      <td>979</td>\n",
              "      <td>979</td>\n",
              "      <td>979</td>\n",
              "      <td>979</td>\n",
              "      <td>979</td>\n",
              "      <td>979</td>\n",
              "    </tr>\n",
              "  </tbody>\n",
              "</table>\n",
              "<p>2 rows × 42 columns</p>\n",
              "</div>\n",
              "      <button class=\"colab-df-convert\" onclick=\"convertToInteractive('df-84c354e5-1a5d-4d62-9502-229dfd5786ac')\"\n",
              "              title=\"Convert this dataframe to an interactive table.\"\n",
              "              style=\"display:none;\">\n",
              "        \n",
              "  <svg xmlns=\"http://www.w3.org/2000/svg\" height=\"24px\"viewBox=\"0 0 24 24\"\n",
              "       width=\"24px\">\n",
              "    <path d=\"M0 0h24v24H0V0z\" fill=\"none\"/>\n",
              "    <path d=\"M18.56 5.44l.94 2.06.94-2.06 2.06-.94-2.06-.94-.94-2.06-.94 2.06-2.06.94zm-11 1L8.5 8.5l.94-2.06 2.06-.94-2.06-.94L8.5 2.5l-.94 2.06-2.06.94zm10 10l.94 2.06.94-2.06 2.06-.94-2.06-.94-.94-2.06-.94 2.06-2.06.94z\"/><path d=\"M17.41 7.96l-1.37-1.37c-.4-.4-.92-.59-1.43-.59-.52 0-1.04.2-1.43.59L10.3 9.45l-7.72 7.72c-.78.78-.78 2.05 0 2.83L4 21.41c.39.39.9.59 1.41.59.51 0 1.02-.2 1.41-.59l7.78-7.78 2.81-2.81c.8-.78.8-2.07 0-2.86zM5.41 20L4 18.59l7.72-7.72 1.47 1.35L5.41 20z\"/>\n",
              "  </svg>\n",
              "      </button>\n",
              "      \n",
              "  <style>\n",
              "    .colab-df-container {\n",
              "      display:flex;\n",
              "      flex-wrap:wrap;\n",
              "      gap: 12px;\n",
              "    }\n",
              "\n",
              "    .colab-df-convert {\n",
              "      background-color: #E8F0FE;\n",
              "      border: none;\n",
              "      border-radius: 50%;\n",
              "      cursor: pointer;\n",
              "      display: none;\n",
              "      fill: #1967D2;\n",
              "      height: 32px;\n",
              "      padding: 0 0 0 0;\n",
              "      width: 32px;\n",
              "    }\n",
              "\n",
              "    .colab-df-convert:hover {\n",
              "      background-color: #E2EBFA;\n",
              "      box-shadow: 0px 1px 2px rgba(60, 64, 67, 0.3), 0px 1px 3px 1px rgba(60, 64, 67, 0.15);\n",
              "      fill: #174EA6;\n",
              "    }\n",
              "\n",
              "    [theme=dark] .colab-df-convert {\n",
              "      background-color: #3B4455;\n",
              "      fill: #D2E3FC;\n",
              "    }\n",
              "\n",
              "    [theme=dark] .colab-df-convert:hover {\n",
              "      background-color: #434B5C;\n",
              "      box-shadow: 0px 1px 3px 1px rgba(0, 0, 0, 0.15);\n",
              "      filter: drop-shadow(0px 1px 2px rgba(0, 0, 0, 0.3));\n",
              "      fill: #FFFFFF;\n",
              "    }\n",
              "  </style>\n",
              "\n",
              "      <script>\n",
              "        const buttonEl =\n",
              "          document.querySelector('#df-84c354e5-1a5d-4d62-9502-229dfd5786ac button.colab-df-convert');\n",
              "        buttonEl.style.display =\n",
              "          google.colab.kernel.accessAllowed ? 'block' : 'none';\n",
              "\n",
              "        async function convertToInteractive(key) {\n",
              "          const element = document.querySelector('#df-84c354e5-1a5d-4d62-9502-229dfd5786ac');\n",
              "          const dataTable =\n",
              "            await google.colab.kernel.invokeFunction('convertToInteractive',\n",
              "                                                     [key], {});\n",
              "          if (!dataTable) return;\n",
              "\n",
              "          const docLinkHtml = 'Like what you see? Visit the ' +\n",
              "            '<a target=\"_blank\" href=https://colab.research.google.com/notebooks/data_table.ipynb>data table notebook</a>'\n",
              "            + ' to learn more about interactive tables.';\n",
              "          element.innerHTML = '';\n",
              "          dataTable['output_type'] = 'display_data';\n",
              "          await google.colab.output.renderOutput(dataTable, element);\n",
              "          const docLink = document.createElement('div');\n",
              "          docLink.innerHTML = docLinkHtml;\n",
              "          element.appendChild(docLink);\n",
              "        }\n",
              "      </script>\n",
              "    </div>\n",
              "  </div>\n",
              "  "
            ]
          },
          "metadata": {},
          "execution_count": 5
        }
      ],
      "source": [
        "# Sample the data for suitable anomaly detection\n",
        "\n",
        "data_resampled = data.loc[data[\"target\"].isin([\"normal.\",\"teardrop.\"])]\n",
        "\n",
        "def map_label(target):\n",
        "  if target == \"normal.\":\n",
        "    return 0\n",
        "  return 1\n",
        "\n",
        "data_resampled[\"Label\"] = data_resampled[\"target\"].apply(map_label)"
      ]
    },
    {
      "cell_type": "code",
      "execution_count": null,
      "metadata": {
        "colab": {
          "base_uri": "https://localhost:8080/"
        },
        "id": "lWF51ELW-lba",
        "outputId": "55411efa-742c-40ec-abaf-d65746c9cdb1"
      },
      "outputs": [
        {
          "name": "stdout",
          "output_type": "stream",
          "text": [
            "               wrong_fragment  target      z\n",
            "Label Z_Label                               \n",
            "0     0                 97278   97278  97278\n",
            "1     1                   979     979    979\n"
          ]
        },
        {
          "name": "stderr",
          "output_type": "stream",
          "text": [
            "/usr/local/lib/python3.7/dist-packages/ipykernel_launcher.py:6: SettingWithCopyWarning: \n",
            "A value is trying to be set on a copy of a slice from a DataFrame.\n",
            "Try using .loc[row_indexer,col_indexer] = value instead\n",
            "\n",
            "See the caveats in the documentation: https://pandas.pydata.org/pandas-docs/stable/user_guide/indexing.html#returning-a-view-versus-a-copy\n",
            "  \n",
            "/usr/local/lib/python3.7/dist-packages/ipykernel_launcher.py:13: SettingWithCopyWarning: \n",
            "A value is trying to be set on a copy of a slice from a DataFrame.\n",
            "Try using .loc[row_indexer,col_indexer] = value instead\n",
            "\n",
            "See the caveats in the documentation: https://pandas.pydata.org/pandas-docs/stable/user_guide/indexing.html#returning-a-view-versus-a-copy\n",
            "  del sys.path[0]\n"
          ]
        }
      ],
      "source": [
        "mu = data_resampled['wrong_fragment'].mean()\n",
        "sigma = data_resampled ['wrong_fragment'].std()\n",
        "data_resampled[\"Z\"] = (data_resampled ['wrong_fragment'] – mu) / sigma\n"
      ]
    },
    {
      "cell_type": "code",
      "source": [
        "data_resampled[\"Z\"].plot.density()"
      ],
      "metadata": {
        "id": "KPbqas0-ANSV"
      },
      "execution_count": null,
      "outputs": []
    },
    {
      "cell_type": "code",
      "source": [
        " def map_z_to_label(z):\n",
        "    if z > 2 or z < -2:\n",
        "      return 1\n",
        "    return 0\n",
        "\n",
        "data_resampled[\"Predicted_Label\"] = data_resampled[\"Z\"].apply(map_z_to_label)\n"
      ],
      "metadata": {
        "id": "W0rjqmkqAAJ_"
      },
      "execution_count": null,
      "outputs": []
    },
    {
      "cell_type": "code",
      "execution_count": null,
      "metadata": {
        "colab": {
          "base_uri": "https://localhost:8080/",
          "height": 501
        },
        "id": "FzrQkHQ-x53X",
        "outputId": "a094d7ae-5c41-45e9-8b78-1b78aadf94b5"
      },
      "outputs": [
        {
          "data": {
            "text/plain": [
              "<matplotlib.axes._subplots.AxesSubplot at 0x7fb822976d50>"
            ]
          },
          "execution_count": 14,
          "metadata": {},
          "output_type": "execute_result"
        },
        {
          "data": {
            "image/png": "[encoded data removed]",
            "text/plain": [
              "<Figure size 720x576 with 2 Axes>"
            ]
          },
          "metadata": {},
          "output_type": "display_data"
        }
      ],
      "source": [
        "from sklearn.metrics import confusion_matrix\n",
        "from matplotlib import pyplot as plt\n",
        "import seaborn as sns\n",
        "\n",
        "confusion = confusion_matrix(data_resampled[\"Label\"], data_resampled[\"Z_Label\"])\n",
        "plt.figure(figsize = (10,8))\n",
        "sns.heatmap(confusion, annot = True, fmt = 'd', cmap=\"YlGnBu\")\n"
      ]
    },
    {
      "cell_type": "markdown",
      "source": [
        "### Elliptic Envelope"
      ],
      "metadata": {
        "id": "djsW_5coA1yn"
      }
    },
    {
      "cell_type": "code",
      "source": [
        "from sklearn.covariance import EllipticEnvelope\n",
        "actual_labels = data_resampled[\"Label\"]\n",
        "X = data_resampled.drop([\"Label\", \"target\",\n",
        "                \"protocol_type\", \"service\",\n",
        "                \"flag\"], axis=1)\n",
        "\n",
        "\n",
        "clf = EllipticEnvelope(contamination=.1,random_state=0)\n",
        "clf.fit(X)\n",
        "predicted_labels = clf.predict(X)"
      ],
      "metadata": {
        "id": "yHToxpGtA5VV"
      },
      "execution_count": null,
      "outputs": []
    },
    {
      "cell_type": "code",
      "source": [
        "predicted_labels_rescored = [1 if pred == -1 else 0 for pred in predicted_labels]"
      ],
      "metadata": {
        "id": "HWOADKuWBDgN"
      },
      "execution_count": null,
      "outputs": []
    },
    {
      "cell_type": "code",
      "source": [
        "from sklearn.metrics import confusion_matrix\n",
        "from matplotlib import pyplot as plt\n",
        "import seaborn as sns\n",
        "\n",
        "confusion = confusion_matrix(actual_labels, predicted_labels_rescored)\n",
        "plt.figure(figsize = (10,8))\n",
        "sns.heatmap(confusion, annot = True, fmt = 'd', cmap=\"YlGnBu\")"
      ],
      "metadata": {
        "id": "nU5l_5q6BE4e"
      },
      "execution_count": null,
      "outputs": []
    },
    {
      "cell_type": "markdown",
      "source": [
        "### Isolation Forest"
      ],
      "metadata": {
        "id": "_rDTg_fnBQM0"
      }
    },
    {
      "cell_type": "code",
      "execution_count": null,
      "metadata": {
        "colab": {
          "base_uri": "https://localhost:8080/"
        },
        "id": "CQlRgpPy0m-M",
        "outputId": "16b2aac4-4cc3-4993-e463-3ee4dc68ba02"
      },
      "outputs": [
        {
          "data": {
            "text/plain": [
              "array([1, 1, 1, 1, 1, 1, 1, 1, 1, 1])"
            ]
          },
          "execution_count": 18,
          "metadata": {},
          "output_type": "execute_result"
        }
      ],
      "source": [
        "from sklearn.ensemble import IsolationForest\n",
        "actual_labels = data_resampled[\"Label\"]\n",
        "X = data_resampled.drop([\"Label\", \"target\",\n",
        "                \"protocol_type\", \"service\",\n",
        "                \"flag\"], axis=1)\n",
        "\n",
        "clf = IsolationForest(random_state=0).fit(X)\n",
        "predicted_labels = clf.predict(X)\n",
        "\n",
        "predicted_labels[:10]"
      ]
    },
    {
      "cell_type": "code",
      "execution_count": null,
      "metadata": {
        "id": "dGr28_Ig2BuD"
      },
      "outputs": [],
      "source": [
        "predicted_labels_rescored = [1 if pred == -1 else 0 for pred in predicted_labels]"
      ]
    },
    {
      "cell_type": "code",
      "execution_count": null,
      "metadata": {
        "colab": {
          "base_uri": "https://localhost:8080/",
          "height": 504
        },
        "id": "u9zzhn8Y2QPX",
        "outputId": "9344de55-381c-4013-c8a1-1c1d58f94d85"
      },
      "outputs": [
        {
          "data": {
            "text/plain": [
              "<matplotlib.axes._subplots.AxesSubplot at 0x7fb81fa56690>"
            ]
          },
          "execution_count": 20,
          "metadata": {},
          "output_type": "execute_result"
        },
        {
          "data": {
            "image/png": "[encoded data removed]",
            "text/plain": [
              "<Figure size 720x576 with 2 Axes>"
            ]
          },
          "metadata": {},
          "output_type": "display_data"
        }
      ],
      "source": [
        "confusion = confusion_matrix(actual_labels, predicted_labels_rescored)\n",
        "plt.figure(figsize = (10,8))\n",
        "sns.heatmap(confusion, annot = True, fmt = 'd', cmap=\"YlGnBu\")"
      ]
    },
    {
      "cell_type": "markdown",
      "source": [
        "### Local Outlier Factor"
      ],
      "metadata": {
        "id": "S1W1uB6SB9NQ"
      }
    },
    {
      "cell_type": "code",
      "source": [
        "from sklearn.neighbors import LocalOutlierFactor\n",
        "actual_labels = data_resampled[\"Label\"]\n",
        "X = data_resampled.drop([\"Label\", \"target\",\n",
        " \"protocol_type\", \"service\",\n",
        " \"flag\"], axis=1)\n",
        "k = 5\n",
        "clf = LocalOutlierFactor(n_neighbors=k, contamination=.1)\n",
        "predicted_labels = clf.fit_predict(X)\n"
      ],
      "metadata": {
        "id": "9K0ZTJHBB8gG"
      },
      "execution_count": null,
      "outputs": []
    },
    {
      "cell_type": "code",
      "execution_count": null,
      "metadata": {
        "colab": {
          "base_uri": "https://localhost:8080/"
        },
        "id": "zwzdZd8gUfoZ",
        "outputId": "ae0fcbf9-1cd2-440a-8125-6d5d3923415c"
      },
      "outputs": [
        {
          "output_type": "stream",
          "name": "stdout",
          "text": [
            "Checking for k = 100\n",
            "Checking for k = 200\n",
            "Checking for k = 300\n",
            "Checking for k = 400\n",
            "Checking for k = 500\n",
            "Checking for k = 600\n",
            "Checking for k = 700\n",
            "Checking for k = 800\n",
            "Checking for k = 900\n",
            "Checking for k = 1000\n",
            "Checking for k = 1100\n",
            "Checking for k = 1200\n",
            "Checking for k = 1300\n",
            "Checking for k = 1400\n",
            "Checking for k = 1500\n",
            "Checking for k = 1600\n",
            "Checking for k = 1700\n",
            "Checking for k = 1800\n",
            "Checking for k = 1900\n",
            "Checking for k = 2000\n",
            "Checking for k = 2100\n",
            "Checking for k = 2200\n",
            "Checking for k = 2300\n",
            "Checking for k = 2400\n",
            "Checking for k = 2500\n",
            "Checking for k = 2600\n",
            "Checking for k = 2700\n",
            "Checking for k = 2800\n",
            "Checking for k = 2900\n"
          ]
        }
      ],
      "source": [
        "from sklearn.neighbors import LocalOutlierFactor\n",
        "from sklearn.metrics import confusion_matrix\n",
        "actual_labels = data_resampled[\"Label\"]\n",
        "X = data_resampled.drop([\"Label\", \"target\",\n",
        "                \"protocol_type\", \"service\",\n",
        "                \"flag\"], axis=1)\n",
        "all_accuracies = []\n",
        "all_precision = []\n",
        "all_recall = []\n",
        "all_k = []\n",
        "total_num_examples = len(X)\n",
        "start_k = 100\n",
        "end_k = 3000\n",
        "\n",
        "for k in range(start_k, end_k,100): \n",
        "  print(\"Checking for k = {}\".format(k))\n",
        "\n",
        "  # Fit a model\n",
        "  clf = LocalOutlierFactor(n_neighbors=k, contamination=.1)\n",
        "  predicted_labels = clf.fit_predict(X)\n",
        "  predicted_labels_rescored = [1 if pred == -1 else 0 for pred in predicted_labels]\n",
        "  confusion = confusion_matrix(actual_labels, predicted_labels_rescored)\n",
        "\n",
        "  # Calculate metrics\n",
        "  accuracy = 100 * (confusion[0][0] + confusion[1][1]) / total_num_examples\n",
        "  precision = 100 * (confusion[1][1])/(confusion[1][1] + confusion[1][0] + 1)\n",
        "  recall = 100 * (confusion[1][1])/(confusion[1][1] + confusion[0][1] + 1)\n",
        "\n",
        "  # Record metrics\n",
        "  all_k.append(k)\n",
        "  all_accuracies.append(accuracy)\n",
        "  all_precision.append(precision)\n",
        "  all_recall.append(recall)"
      ]
    },
    {
      "cell_type": "code",
      "execution_count": null,
      "metadata": {
        "id": "Z24YYk679SbO",
        "colab": {
          "base_uri": "https://localhost:8080/",
          "height": 430
        },
        "outputId": "e86fba92-44e5-49c3-b24b-4adfb59accdb"
      },
      "outputs": [
        {
          "output_type": "display_data",
          "data": {
            "text/plain": [
              "<Figure size 640x480 with 1 Axes>"
            ],
            "image/png": "[encoded data removed]"
          },
          "metadata": {}
        }
      ],
      "source": [
        "import matplotlib.pyplot as plt\n",
        "plt.plot(all_k, all_accuracies, color='green', label = 'Accuracy')\n",
        "plt.plot(all_k, all_precision, color='blue', label = 'Precision')\n",
        "plt.plot(all_k, all_recall, color='red', label = 'Recall')\n",
        "plt.legend()\n",
        "plt.show()"
      ]
    },
    {
      "cell_type": "markdown",
      "source": [
        "### DBSCAN"
      ],
      "metadata": {
        "id": "krWVHXwJCRv-"
      }
    },
    {
      "cell_type": "code",
      "execution_count": null,
      "metadata": {
        "colab": {
          "base_uri": "https://localhost:8080/",
          "height": 501
        },
        "id": "0pvMpLNZSlj8",
        "outputId": "8bda2218-9b17-4e84-b15d-89abf2bebfc2"
      },
      "outputs": [
        {
          "data": {
            "text/plain": [
              "<matplotlib.axes._subplots.AxesSubplot at 0x7f9859214d90>"
            ]
          },
          "execution_count": 10,
          "metadata": {},
          "output_type": "execute_result"
        },
        {
          "data": {
            "image/png": "[encoded data removed]",
            "text/plain": [
              "<Figure size 720x576 with 2 Axes>"
            ]
          },
          "metadata": {},
          "output_type": "display_data"
        }
      ],
      "source": [
        "from sklearn.cluster import DBSCAN\n",
        "from sklearn.metrics import confusion_matrix\n",
        "from matplotlib import pyplot as plt\n",
        "import seaborn as sns\n",
        "\n",
        "from sklearn.neighbors import LocalOutlierFactor\n",
        "actual_labels = data_resampled[\"Label\"]\n",
        "X = data_resampled.drop([\"Label\", \"target\",\n",
        "                \"protocol_type\", \"service\",\n",
        "                \"flag\"], axis=1)\n",
        "\n",
        "epsilon = 0.2\n",
        "minimum_samples = 5\n",
        "\n",
        "clf = DBSCAN(\n",
        " eps = epsilon,  \n",
        " min_samples = minimum_samples)\n",
        "\n",
        "predicted_labels = outlier_detection.fit_predict(X)\n",
        "predicted_labels_rescored = [1 if pred == -1 else 0 for pred in predicted_labels]\n"
      ]
    },
    {
      "cell_type": "markdown",
      "source": [
        "### Once Class SVM"
      ],
      "metadata": {
        "id": "aSCjrCo-C1Sw"
      }
    },
    {
      "cell_type": "code",
      "execution_count": null,
      "metadata": {
        "id": "eLfi1XHw7gvC"
      },
      "outputs": [],
      "source": [
        "from sklearn import svm\n",
        "\n",
        "actual_labels = data_resampled[\"Label\"]\n",
        "X = data_resampled.drop([\"Label\", \"target\",\n",
        "                \"protocol_type\", \"service\",\n",
        "                \"flag\"], axis=1)\n",
        "\n",
        "clf=svm.OneClassSVM(kernel=\"rbf\")\n",
        "clf.fit(X)\n",
        "predicted_labels = clf.predict(X)"
      ]
    },
    {
      "cell_type": "markdown",
      "source": [
        "### Autoencoder"
      ],
      "metadata": {
        "id": "rEpfyrQNDGca"
      }
    },
    {
      "cell_type": "code",
      "execution_count": null,
      "metadata": {
        "colab": {
          "base_uri": "https://localhost:8080/"
        },
        "id": "4VI57sBpFR_8",
        "outputId": "0ce19af1-f55f-4183-a680-835a8901281a"
      },
      "outputs": [
        {
          "name": "stdout",
          "output_type": "stream",
          "text": [
            "65832\n"
          ]
        },
        {
          "name": "stderr",
          "output_type": "stream",
          "text": [
            "/usr/local/lib/python3.7/dist-packages/ipykernel_launcher.py:13: DeprecationWarning: `np.float` is a deprecated alias for the builtin `float`. To silence this warning, use `float` by itself. Doing this will not modify any behavior and is safe. If you specifically wanted the numpy scalar type, use `np.float64` here.\n",
            "Deprecated in NumPy 1.20; for more details and guidance: https://numpy.org/devdocs/release/1.20.0-notes.html#deprecations\n",
            "  del sys.path[0]\n"
          ]
        },
        {
          "name": "stdout",
          "output_type": "stream",
          "text": [
            "Model: \"model_14\"\n",
            "_________________________________________________________________\n",
            " Layer (type)                Output Shape              Param #   \n",
            "=================================================================\n",
            " input_15 (InputLayer)       [(None, 38)]              0         \n",
            "                                                                 \n",
            " dense_72 (Dense)            (None, 30)                1170      \n",
            "                                                                 \n",
            " dense_73 (Dense)            (None, 16)                496       \n",
            "                                                                 \n",
            " dense_74 (Dense)            (None, 8)                 136       \n",
            "                                                                 \n",
            " dense_75 (Dense)            (None, 16)                144       \n",
            "                                                                 \n",
            " dense_76 (Dense)            (None, 30)                510       \n",
            "                                                                 \n",
            " dense_77 (Dense)            (None, 38)                1178      \n",
            "                                                                 \n",
            "=================================================================\n",
            "Total params: 3,634\n",
            "Trainable params: 3,634\n",
            "Non-trainable params: 0\n",
            "_________________________________________________________________\n",
            "Model: \"model_14\"\n",
            "_________________________________________________________________\n",
            " Layer (type)                Output Shape              Param #   \n",
            "=================================================================\n",
            " input_15 (InputLayer)       [(None, 38)]              0         \n",
            "                                                                 \n",
            " dense_72 (Dense)            (None, 30)                1170      \n",
            "                                                                 \n",
            " dense_73 (Dense)            (None, 16)                496       \n",
            "                                                                 \n",
            " dense_74 (Dense)            (None, 8)                 136       \n",
            "                                                                 \n",
            " dense_75 (Dense)            (None, 16)                144       \n",
            "                                                                 \n",
            " dense_76 (Dense)            (None, 30)                510       \n",
            "                                                                 \n",
            " dense_77 (Dense)            (None, 38)                1178      \n",
            "                                                                 \n",
            "=================================================================\n",
            "Total params: 3,634\n",
            "Trainable params: 3,634\n",
            "Non-trainable params: 0\n",
            "_________________________________________________________________\n",
            "Epoch 1/10\n",
            "258/258 [==============================] - 1s 1ms/step - loss: 52973192.0000\n",
            "Epoch 2/10\n",
            "258/258 [==============================] - 0s 1ms/step - loss: 52973176.0000\n",
            "Epoch 3/10\n",
            "258/258 [==============================] - 0s 1ms/step - loss: 52973188.0000\n",
            "Epoch 4/10\n",
            "258/258 [==============================] - 0s 1ms/step - loss: 52973176.0000\n",
            "Epoch 5/10\n",
            "258/258 [==============================] - 0s 1ms/step - loss: 52973180.0000\n",
            "Epoch 6/10\n",
            "258/258 [==============================] - 0s 1ms/step - loss: 52973188.0000\n",
            "Epoch 7/10\n",
            "258/258 [==============================] - 0s 1ms/step - loss: 52973148.0000\n",
            "Epoch 8/10\n",
            "258/258 [==============================] - 0s 1ms/step - loss: 52973192.0000\n",
            "Epoch 9/10\n",
            "258/258 [==============================] - 0s 1ms/step - loss: 52973172.0000\n",
            "Epoch 10/10\n",
            "258/258 [==============================] - 0s 1ms/step - loss: 52973172.0000\n"
          ]
        },
        {
          "data": {
            "text/plain": [
              "<keras.callbacks.History at 0x7fbece5e1450>"
            ]
          },
          "execution_count": 22,
          "metadata": {},
          "output_type": "execute_result"
        }
      ],
      "source": [
        "from tensorflow import keras\n",
        "from tensorflow.keras import layers\n",
        "from sklearn.model_selection import train_test_split\n",
        "\n",
        "actual_labels = data_resampled[\"Label\"]\n",
        "X = data_resampled.drop([\"Label\", \"target\",\n",
        "                \"protocol_type\", \"service\",\n",
        "                \"flag\"], axis=1)\n",
        "\n",
        " \n",
        "\n",
        "X_train, X_test, y_train, y_test = train_test_split(X, actual_labels, test_size=0.33, random_state=42, stratify=actual_labels)\n",
        "\n",
        "X_train = np.array(X_train, dtype=np.float)\n",
        "X_test= np.array(X_test, dtype=np.float)\n"
      ]
    },
    {
      "cell_type": "code",
      "source": [
        "input = keras.Input(shape=(X_train.shape[1],))\n",
        "encoded = layers.Dense(30, activation='relu')(input)\n",
        "encoded = layers.Dense(16, activation='relu')(encoded)\n",
        "encoded = layers.Dense(8, activation='relu')(encoded)"
      ],
      "metadata": {
        "id": "ZuZxLy68Ddy3"
      },
      "execution_count": null,
      "outputs": []
    },
    {
      "cell_type": "code",
      "source": [
        "decoded = layers.Dense(16, activation='relu')(encoded)\n",
        "decoded = layers.Dense(30, activation='relu')(decoded)\n",
        "decoded = layers.Dense(X_train.shape[1], activation='sigmoid')(encoded)"
      ],
      "metadata": {
        "id": "MuoXYzi7DipV"
      },
      "execution_count": null,
      "outputs": []
    },
    {
      "cell_type": "code",
      "source": [
        "autoencoder = keras.Model(input, decoded)\n"
      ],
      "metadata": {
        "id": "sUW75uV-DmWo"
      },
      "execution_count": null,
      "outputs": []
    },
    {
      "cell_type": "code",
      "source": [
        "# Encoder\n",
        "encoder = keras.Model(input_img, encoded)\n",
        "\n",
        "# Decoder\n",
        "encoded_input = keras.Input(shape=(encoding_dim,))\n",
        "decoder_layer = autoencoder.layers[-1]\n",
        "decoder = keras.Model(encoded_input,\n",
        "decoder_layer(encoded_input))"
      ],
      "metadata": {
        "id": "HwK2P6B_Do8X"
      },
      "execution_count": null,
      "outputs": []
    },
    {
      "cell_type": "code",
      "source": [
        "autoencoder.compile(optimizer='adam', loss='mse')\n",
        "autoencoder.summary()"
      ],
      "metadata": {
        "id": "y6ZWyuZ8DsA4"
      },
      "execution_count": null,
      "outputs": []
    },
    {
      "cell_type": "code",
      "source": [
        "autoencoder.fit(X_train, X_train,\n",
        " epochs=10,\n",
        " batch_size=256,\n",
        " shuffle=True"
      ],
      "metadata": {
        "id": "3wqZVw2KD431"
      },
      "execution_count": null,
      "outputs": []
    },
    {
      "cell_type": "code",
      "execution_count": null,
      "metadata": {
        "colab": {
          "base_uri": "https://localhost:8080/"
        },
        "id": "OqT7o2YbJBWV",
        "outputId": "38a46a27-b87f-4a54-b4ef-f979857c1b42"
      },
      "outputs": [
        {
          "name": "stderr",
          "output_type": "stream",
          "text": [
            "/usr/local/lib/python3.7/dist-packages/ipykernel_launcher.py:11: DeprecationWarning: `np.float` is a deprecated alias for the builtin `float`. To silence this warning, use `float` by itself. Doing this will not modify any behavior and is safe. If you specifically wanted the numpy scalar type, use `np.float64` here.\n",
            "Deprecated in NumPy 1.20; for more details and guidance: https://numpy.org/devdocs/release/1.20.0-notes.html#deprecations\n",
            "  # This is added back by InteractiveShellApp.init_path()\n"
          ]
        }
      ],
      "source": [
        "from sklearn.metrics import mean_squared_error\n",
        "predicted = autoencoder.predict(X_test)\n",
        "errors = [np.linalg.norm(X_test[idx] - predicted[idx]) for idx in range(X_test.shape[0])]\n",
        "\n"
      ]
    },
    {
      "cell_type": "code",
      "execution_count": null,
      "metadata": {
        "colab": {
          "base_uri": "https://localhost:8080/",
          "height": 501
        },
        "id": "6H4Hpn0kLVIn",
        "outputId": "d16401ac-ea59-4cad-db68-96d2b0c79075"
      },
      "outputs": [
        {
          "data": {
            "text/plain": [
              "<matplotlib.axes._subplots.AxesSubplot at 0x7fbed0412210>"
            ]
          },
          "execution_count": 40,
          "metadata": {},
          "output_type": "execute_result"
        },
        {
          "data": {
            "image/png": "[encoded data removed]",
            "text/plain": [
              "<Figure size 720x576 with 2 Axes>"
            ]
          },
          "metadata": {},
          "output_type": "display_data"
        }
      ],
      "source": [
        "thresh = np.percentile(errors, 99)\n",
        "\n",
        "predicted_labels = [1 if errors[idx] > thresh else 0 for idx in range(X_test.shape[0])]\n"
      ]
    },
    {
      "cell_type": "code",
      "execution_count": null,
      "metadata": {
        "id": "wDBQqD2bJJL0"
      },
      "outputs": [],
      "source": []
    }
  ],
  "metadata": {
    "colab": {
      "provenance": []
    },
    "kernelspec": {
      "display_name": "Python 3",
      "name": "python3"
    },
    "language_info": {
      "name": "python"
    }
  },
  "nbformat": 4,
  "nbformat_minor": 0
}