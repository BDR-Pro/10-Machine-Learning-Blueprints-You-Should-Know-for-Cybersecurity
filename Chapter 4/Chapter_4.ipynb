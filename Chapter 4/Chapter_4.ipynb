{
  "nbformat": 4,
  "nbformat_minor": 0,
  "metadata": {
    "colab": {
      "provenance": []
    },
    "kernelspec": {
      "name": "python3",
      "display_name": "Python 3"
    },
    "language_info": {
      "name": "python"
    }
  },
  "cells": [
    {
      "cell_type": "markdown",
      "source": [
        "### Import Libraries"
      ],
      "metadata": {
        "id": "xyJeS3cGsQWz"
      }
    },
    {
      "cell_type": "code",
      "execution_count": null,
      "metadata": {
        "id": "JvjjLnz4p7_q"
      },
      "outputs": [],
      "source": [
        "import numpy as np \n",
        "import pandas as pd \n",
        "import matplotlib.pyplot as plt \n"
      ]
    },
    {
      "cell_type": "markdown",
      "source": [
        "### Load Dataset"
      ],
      "metadata": {
        "id": "qbPlVFj9sUza"
      }
    },
    {
      "cell_type": "code",
      "source": [
        "reviews_df = pd.read_csv(\"amazon_reviews.txt\", sep=\"\\t\")\n",
        "reviews_df.head()"
      ],
      "metadata": {
        "colab": {
          "base_uri": "https://localhost:8080/"
        },
        "id": "KrNwKX1Uqu5d",
        "outputId": "70974c10-4204-48ff-a650-1332ae5a7f93"
      },
      "execution_count": null,
      "outputs": [
        {
          "output_type": "stream",
          "name": "stdout",
          "text": [
            "tar: Old option 'g' requires an argument.\n",
            "Try 'tar --help' or 'tar --usage' for more information.\n"
          ]
        }
      ]
    },
    {
      "cell_type": "code",
      "source": [
        "reviews_df.groupby(\"LABEL\").count()"
      ],
      "metadata": {
        "id": "8qaIhf9Srbn8"
      },
      "execution_count": null,
      "outputs": []
    },
    {
      "cell_type": "markdown",
      "source": [
        "### Convert Label to 0/1"
      ],
      "metadata": {
        "id": "DqfYO1uPsXkx"
      }
    },
    {
      "cell_type": "code",
      "source": [
        "def label_to_int(label):\n",
        "    if label == \"__label2__\":\n",
        "        # Real Review\n",
        "        return 0\n",
        "    else:\n",
        "        # Fake Review\n",
        "        return 1\n",
        "\n",
        "reviews_df[\"FRAUD_LABEL\"] = reviews_df[\"LABEL\"].apply(label_to_int)\n",
        "reviews_df.head()"
      ],
      "metadata": {
        "id": "KzDubxHarddW"
      },
      "execution_count": null,
      "outputs": []
    },
    {
      "cell_type": "markdown",
      "source": [
        "### EDA: Review Distribution across Categories"
      ],
      "metadata": {
        "id": "eQwWo6fFsbKU"
      }
    },
    {
      "cell_type": "code",
      "source": [
        "axes = reviews_df.groupby(\"FRAUD_LABEL\").PRODUCT_CATEGORY.value_counts().unstack(0).plot.barh()\n",
        "axes.set_xlabel(\"# Reviews\")\n",
        "axes.set_ylabel(\"Product Category\")"
      ],
      "metadata": {
        "id": "GGNvIN-Mrdgc"
      },
      "execution_count": null,
      "outputs": []
    },
    {
      "cell_type": "code",
      "source": [
        "axes = reviews_df.groupby(\"FRAUD_LABEL\").RATING.value_counts().unstack(0).plot.bar()\n",
        "axes.set_xlabel(\"# Reviews\")\n",
        "axes.set_ylabel(\"Rating\")"
      ],
      "metadata": {
        "id": "MfNp56Vmrdjv"
      },
      "execution_count": null,
      "outputs": []
    },
    {
      "cell_type": "code",
      "source": [
        "axes = reviews_df.groupby(\"FRAUD_LABEL\").VERIFIED_PURCHASE.value_counts().unstack(0).plot.bar()\n",
        "axes.set_xlabel(\"Purchase Verified\")\n",
        "axes.set_ylabel(\"Rating\")"
      ],
      "metadata": {
        "id": "pU3ukQFUrmh4"
      },
      "execution_count": null,
      "outputs": []
    },
    {
      "cell_type": "markdown",
      "source": [
        "### Feature Extraction"
      ],
      "metadata": {
        "id": "Fs8KSVEltQAM"
      }
    },
    {
      "cell_type": "code",
      "source": [
        "\n",
        "def review_length(text):\n",
        "    if text is None:\n",
        "        return 0\n",
        "    else:\n",
        "        words = text.split(\" \")\n",
        "        return len(words)\n",
        "    \n"
      ],
      "metadata": {
        "id": "aQ-JT9JtrmdF"
      },
      "execution_count": null,
      "outputs": []
    },
    {
      "cell_type": "code",
      "source": [
        "def average_word_length(text):\n",
        "    if text is None or text == \"\":\n",
        "        return 0\n",
        "    else:\n",
        "        words = text.split(\" \")\n",
        "        total_lengths = 0\n",
        "        for word in words:\n",
        "            total_lengths = total_lengths + len(word)\n",
        "            \n",
        "        avg_len = total_lengths/len(words)\n",
        "        return avg_len\n"
      ],
      "metadata": {
        "id": "MF_x9TVXrmZ8"
      },
      "execution_count": null,
      "outputs": []
    },
    {
      "cell_type": "code",
      "source": [
        "\n",
        "import enchant\n",
        "english_dict = enchant.Dict(\"en_US\")\n",
        "def count_misspellings(text):\n",
        "    global english_dict\n",
        "    if text is None or text == \"\":\n",
        "        return 0\n",
        "    else:\n",
        "        misspelling = 0\n",
        "        words = text.split(\" \")\n",
        "        for word in words:\n",
        "            if word != \"\" and not english_dict.check(word.lower()):\n",
        "                misspelling = misspelling + 1\n",
        "        return misspelling\n",
        "    \n",
        "\n"
      ],
      "metadata": {
        "id": "MNf4KvVarmPX"
      },
      "execution_count": null,
      "outputs": []
    },
    {
      "cell_type": "code",
      "source": [
        "reviews_df[\"Review_Text_Length\"] = reviews_df[\"REVIEW_TEXT\"].apply(review_length)\n",
        "reviews_df[\"Avg_Word_Len\"] = reviews_df[\"REVIEW_TEXT\"].apply(average_word_length) \n",
        "reviews_df[\"Num_Misspelling\"] = reviews_df[\"REVIEW_TEXT\"].apply(count_misspellings)"
      ],
      "metadata": {
        "id": "mQlRSKdIrmLK"
      },
      "execution_count": null,
      "outputs": []
    },
    {
      "cell_type": "markdown",
      "source": [
        "### Visualizing Feature Differences & T-Test"
      ],
      "metadata": {
        "id": "88YdeoWLtYYn"
      }
    },
    {
      "cell_type": "code",
      "source": [
        "import matplotlib.pyplot as plt\n",
        "\n",
        "# Separate real and fake reviews\n",
        "fake_reviews = reviews_df[reviews_df['FRAUD_LABEL'] == 1]['Review_Text_Length'].values \n",
        "real_reviews = reviews_df[reviews_df['FRAUD_LABEL'] == 0]['Review_Text_Length'].values \n",
        "\n",
        "# Plot the two histograms\n",
        "bins = np.linspace(0, 500, 500)\n",
        "plt.hist(fake_reviews, bins, alpha=0.5, label='Fake')\n",
        "plt.hist(real_reviews, bins, alpha=0.5, label='Real')\n",
        "\n",
        "# Label the plot\n",
        "plt.xlabel(\"Review Length\")\n",
        "plt.ylabel(\"# Reviews\")\n",
        "plt.legend()\n",
        "\n",
        "# Display the plot \n",
        "plt.show()"
      ],
      "metadata": {
        "id": "iYr4Ogrcr1Yr"
      },
      "execution_count": null,
      "outputs": []
    },
    {
      "cell_type": "code",
      "source": [
        "from scipy.stats import ttest_ind\n",
        "\n",
        "# Conduct t-test\n",
        "t_stat, p_value = ttest_ind(fake_reviews, real_reviews)\n",
        "\n",
        "# Print group means\n",
        "print(\"Mean in Fake Reviews: \", np.mean(fake_reviews))\n",
        "print(\"Mean in Real Reviews: \", np.mean(real_reviews))\n",
        "\n",
        "# Print t-test statistics\n",
        "print(\"T-statistic value: \", t_stat)  \n",
        "print(\"P-Value: \", p_value)"
      ],
      "metadata": {
        "id": "v4LuJaykr1VJ"
      },
      "execution_count": null,
      "outputs": []
    },
    {
      "cell_type": "code",
      "source": [
        "import matplotlib.pyplot as plt\n",
        "\n",
        "# Separate real and fake reviews\n",
        "fake_reviews = reviews_df[reviews_df['FRAUD_LABEL'] == 1]['Num_Misspelling'].values \n",
        "real_reviews = reviews_df[reviews_df['FRAUD_LABEL'] == 0]['Num_Misspelling'].values \n",
        "\n",
        "# Plot the two histograms\n",
        "bins = np.linspace(0, 50, 50)\n",
        "plt.hist(fake_reviews, bins, alpha=0.5, label='Fake')\n",
        "plt.hist(real_reviews, bins, alpha=0.5, label='Real')\n",
        "\n",
        "# Label the plot\n",
        "plt.xlabel(\"# Misspelt Words\")\n",
        "plt.ylabel(\"# Reviews\")\n",
        "plt.legend()\n",
        "\n",
        "# Display the plot \n",
        "plt.show()"
      ],
      "metadata": {
        "id": "FNybkgyjr1SX"
      },
      "execution_count": null,
      "outputs": []
    },
    {
      "cell_type": "code",
      "source": [
        "from scipy.stats import ttest_ind\n",
        "\n",
        "# Conduct t-test\n",
        "t_stat, p_value = ttest_ind(fake_reviews, real_reviews)\n",
        "\n",
        "# Print group means\n",
        "print(\"Mean in Fake Reviews: \", np.mean(fake_reviews))\n",
        "print(\"Mean in Real Reviews: \", np.mean(real_reviews))\n",
        "\n",
        "# Print t-test statistics\n",
        "print(\"T-statistic value: \", t_stat)  \n",
        "print(\"P-Value: \", p_value)"
      ],
      "metadata": {
        "id": "XwZs8eGkr1PM"
      },
      "execution_count": null,
      "outputs": []
    },
    {
      "cell_type": "markdown",
      "source": [
        "### OLS Regression"
      ],
      "metadata": {
        "id": "cYId3NtVtfwI"
      }
    },
    {
      "cell_type": "code",
      "source": [
        "import statsmodels.formula.api as smf\n",
        "\n",
        "model = smf.ols(formula = \"\"\"FRAUD_LABEL ~ Review_Text_Length \n",
        "                                          + Num_Misspelling \n",
        "                                          + Avg_Word_Len \"\"\", \n",
        "                data = reviews_df).fit()\n",
        "\n",
        "print(model.summary())"
      ],
      "metadata": {
        "id": "FrW_xz-6r1Mj"
      },
      "execution_count": null,
      "outputs": []
    },
    {
      "cell_type": "code",
      "source": [
        "import statsmodels.formula.api as smf\n",
        "\n",
        "model = smf.ols(formula = \"\"\"FRAUD_LABEL ~ Review_Text_Length \n",
        "                                          + Num_Misspelling \n",
        "                                          + Avg_Word_Len \n",
        "                                          + C(RATING) \n",
        "                                          + C(VERIFIED_PURCHASE)\"\"\", \n",
        "                data = reviews_df).fit()\n",
        "\n",
        "print(model.summary())"
      ],
      "metadata": {
        "id": "alPo9YkZr1Je"
      },
      "execution_count": null,
      "outputs": []
    }
  ]
}